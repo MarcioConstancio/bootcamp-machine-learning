{
 "cells": [
  {
   "cell_type": "markdown",
   "id": "7b65cd66",
   "metadata": {},
   "source": [
    "# Atividade 02 (ATIV-02)\n",
    "\n",
    "**Nome:** Márcio Constâncio Junior\n",
    "\n",
    "Tipo: Somativa;\n",
    "\n",
    "Tema: Algoritmos básicos de programação em linguagem python e análise de dados.\n",
    "\n",
    "Conteúdo: Módulo 1 e 2.\n",
    "\n",
    "Participantes: Individual.\n",
    "\n",
    "## Avaliação do aluno.\n",
    "\n",
    "Objetivo: Avaliar desempenho do aluno sobre conhecimentos básicos de programação em linguagem python e visualização e análise de dados.\n",
    "\n",
    "Nota: 0 a 3 supercrítico, 4 a 6 crítico, 5 a 7 razoável e 8 a 10 bom;\n",
    "\n",
    "Critérios avaliados: Respostas com coerência, coesão e com exemplos.\n",
    "\n",
    "Informações adicionais: A atividade é composta por 5 questões dissertativas sobre python e 5 questões sobre visualização e análise de dados."
   ]
  },
  {
   "cell_type": "code",
   "execution_count": 37,
   "id": "bb50c7ac",
   "metadata": {},
   "outputs": [],
   "source": [
    "#Importação de algumas bibliotecas necessárias para o funcionamento deste arquivo\n",
    "import pandas as pd\n",
    "import matplotlib.pyplot as plt\n",
    "import seaborn as sns"
   ]
  },
  {
   "cell_type": "markdown",
   "id": "0756e1d5",
   "metadata": {},
   "source": [
    "## 1. Escreva uma função que receba uma lista de números e retorne outra lista com os números ímpares."
   ]
  },
  {
   "cell_type": "code",
   "execution_count": 38,
   "id": "25e676ce",
   "metadata": {},
   "outputs": [
    {
     "data": {
      "text/plain": [
       "[1, 3, 5, 7, 9]"
      ]
     },
     "execution_count": 38,
     "metadata": {},
     "output_type": "execute_result"
    }
   ],
   "source": [
    "def imprime_impares(lista):\n",
    "    impares=[]\n",
    "    for numero in lista:\n",
    "        if int(numero) % 2 != 0:\n",
    "            impares.append(int(numero))\n",
    "    return impares\n",
    "\n",
    "#Testando a função\n",
    "imprime_impares([1,2,3,4,5,6,7,8,9,10])"
   ]
  },
  {
   "cell_type": "markdown",
   "id": "25efe861",
   "metadata": {},
   "source": [
    "## 2. Escreva uma função que receba uma lista de números e retorne outra lista com os números primos presentes."
   ]
  },
  {
   "cell_type": "code",
   "execution_count": 39,
   "id": "e842f5f1",
   "metadata": {},
   "outputs": [
    {
     "data": {
      "text/plain": [
       "[1, 2, 3, 5, 7, 11, 13, 17, 19]"
      ]
     },
     "execution_count": 39,
     "metadata": {},
     "output_type": "execute_result"
    }
   ],
   "source": [
    "def primos(lista):\n",
    "    conjunto = set(lista)\n",
    "    aux = []\n",
    "    for valor in conjunto:\n",
    "        divisor = valor//2\n",
    "        eh_divisivel = 0\n",
    "        while divisor > 1:\n",
    "            if int(valor % divisor) == 0:\n",
    "                eh_divisivel += 1\n",
    "                divisor -= 1\n",
    "            divisor -= 1\n",
    "        if eh_divisivel == 0:\n",
    "            aux.append(valor)\n",
    "    return aux\n",
    "\n",
    "#Testando a função\n",
    "primos([1,2,3,4,5,6,7,8,9,10,11,12,13,12,14,15,16,17,19,18])\n"
   ]
  },
  {
   "cell_type": "markdown",
   "id": "08f8914b",
   "metadata": {},
   "source": [
    "## 3.​ Escreva uma função que receba duas listas e retorne outra lista com os elementos que estão presentes em apenas uma das listas."
   ]
  },
  {
   "cell_type": "code",
   "execution_count": 40,
   "id": "d87e4c15",
   "metadata": {},
   "outputs": [
    {
     "data": {
      "text/plain": [
       "[1, 4, 5]"
      ]
     },
     "execution_count": 40,
     "metadata": {},
     "output_type": "execute_result"
    }
   ],
   "source": [
    "def diferenca_listas(lista1,lista2):\n",
    "    conj1 = set(lista1)\n",
    "    conj2 = set(lista2)\n",
    "\n",
    "    return list(conj1.difference(conj2))\n",
    "\n",
    "a = [1,2,3,4,5,6]\n",
    "b = [2,3,6,7,8,9,10]\n",
    "\n",
    "diferenca_listas(a,b)\n"
   ]
  },
  {
   "cell_type": "markdown",
   "id": "6b0257f0",
   "metadata": {},
   "source": [
    "## 4.​ Dada uma lista de números inteiros, escreva uma função para encontrar o segundo maior valor na lista."
   ]
  },
  {
   "cell_type": "code",
   "execution_count": 41,
   "id": "043a4c85",
   "metadata": {},
   "outputs": [
    {
     "data": {
      "text/plain": [
       "9"
      ]
     },
     "execution_count": 41,
     "metadata": {},
     "output_type": "execute_result"
    }
   ],
   "source": [
    "def segundo_maior(lista):\n",
    "    lista.sort()\n",
    "    return lista[-2]\n",
    "\n",
    "teste = [1,3,5,7,9,10,2,4,6,8]\n",
    "\n",
    "segundo_maior(teste)"
   ]
  },
  {
   "cell_type": "markdown",
   "id": "65c9c710",
   "metadata": {},
   "source": [
    "## 5.​ Crie uma função que receba uma lista de tuplas, cada uma contendo o nome e a idade de uma pessoa, e retorne a lista ordenada pelo nome das pessoas em ordem alfabética."
   ]
  },
  {
   "cell_type": "code",
   "execution_count": 42,
   "id": "df1acf78",
   "metadata": {},
   "outputs": [
    {
     "data": {
      "text/plain": [
       "[('Ana', 32),\n",
       " ('Breno', 20),\n",
       " ('Marcio', 30),\n",
       " ('Maria', 21),\n",
       " ('Paulo', 28),\n",
       " ('Rosana', 45),\n",
       " ('Zezé', 56)]"
      ]
     },
     "execution_count": 42,
     "metadata": {},
     "output_type": "execute_result"
    }
   ],
   "source": [
    "def lista_ordenada_alfabeticamente(lista):\n",
    "    return sorted(lista,key=lambda lista:lista[0])\n",
    "\n",
    "lista = [(\"Ana\",32),(\"Zezé\",56), (\"Breno\",20),(\"Marcio\",30),(\"Paulo\",28),(\"Maria\",21),(\"Rosana\",45)]\n",
    "\n",
    "lista_ordenada_alfabeticamente(lista)\n"
   ]
  },
  {
   "cell_type": "markdown",
   "id": "89df9bfa",
   "metadata": {},
   "source": [
    "## 6.​ Como identificar e tratar outliers em uma coluna numérica usando desvio padrão ou quartis?"
   ]
  },
  {
   "cell_type": "markdown",
   "id": "10c00eda",
   "metadata": {},
   "source": [
    "Resposta: Usando quartis é possível identificar outliers usando a técnica do IQR. Nesta técnica, o IQR é o intervalo interquartil (Q3 - Q1). Essa diferença, multiplicada por 1,5 é somada ao Q3 e subtraída ao Q1, dessa forma, valores abaixo do Q1 - 1,5IQR ou acima de Q3 + 1,5IQR são considerados _outliers_.\n",
    "Este método é usado pela função boxplot do _seaborn_. A seguir, mostro um exemplo via código.\n",
    "\n"
   ]
  },
  {
   "cell_type": "code",
   "execution_count": 43,
   "id": "fd86db51",
   "metadata": {},
   "outputs": [
    {
     "name": "stdout",
     "output_type": "stream",
     "text": [
      "Q1: 21.75 \n",
      "Q3: 115.0 \n",
      "IQR: 93.25\n",
      "Limite inferior: -118.125 \n",
      "Limite superior: 254.875\n"
     ]
    },
    {
     "data": {
      "image/png": "[encoded data removed]",
      "text/plain": [
       "<Figure size 400x300 with 1 Axes>"
      ]
     },
     "metadata": {},
     "output_type": "display_data"
    }
   ],
   "source": [
    "dictio = {'coluna1':[0,1,2,3,4,5,6,7,8,9], \"coluna2\":[2,8,100,14,120,260,50,45,60,150]}\n",
    "df = pd.DataFrame(dictio)\n",
    "\n",
    "\n",
    "q1 = df['coluna2'].quantile(0.25)\n",
    "q3 = df['coluna2'].quantile(0.75)\n",
    "iqr = q3 - q1\n",
    "print(f'Q1: {q1} \\nQ3: {q3} \\nIQR: {iqr}')\n",
    "\n",
    "upper = q3 + 1.5*iqr\n",
    "lower = q1 - 1.5*iqr\n",
    "\n",
    "print(f'Limite inferior: {lower} \\nLimite superior: {upper}')\n",
    "\n",
    "df[(df['coluna2'] < lower) | (df['coluna2'] > upper)]\n",
    "\n",
    "fig = plt.figure(figsize=(4,3))\n",
    "sns.boxplot(data=df, x = 'coluna2')\n",
    "plt.xlabel('Dados da coluna 2')\n",
    "plt.show()"
   ]
  },
  {
   "cell_type": "markdown",
   "id": "71db3c2e",
   "metadata": {},
   "source": [
    "Ainda neste tópico, é possível selecionar outliers usando desvio padrão através do método z-score. Basicamente, neste método, a distribuição de dados é normalizada em função dos números de desvios padrão abaixo ou acima da média. Dessa forma, podemos considerar que os outliers são aqueles distantes 2 ou três desvios padrão da média, por exemplo. "
   ]
  },
  {
   "cell_type": "markdown",
   "id": "33d57731",
   "metadata": {},
   "source": [
    "## 7.​ Como concatenar vários DataFrames (empilhando linhas ou colunas), mesmo que tenham colunas diferentes? Dica: Utiliza-se pd.concat() especificando axis=0 (linhas) ou axis=1 (colunas). Quando há colunas diferentes, os valores ausentes são preenchidos com NaN."
   ]
  },
  {
   "cell_type": "code",
   "execution_count": 44,
   "id": "4c8e9619",
   "metadata": {},
   "outputs": [
    {
     "data": {
      "text/html": [
       "<div>\n",
       "<style scoped>\n",
       "    .dataframe tbody tr th:only-of-type {\n",
       "        vertical-align: middle;\n",
       "    }\n",
       "\n",
       "    .dataframe tbody tr th {\n",
       "        vertical-align: top;\n",
       "    }\n",
       "\n",
       "    .dataframe thead th {\n",
       "        text-align: right;\n",
       "    }\n",
       "</style>\n",
       "<table border=\"1\" class=\"dataframe\">\n",
       "  <thead>\n",
       "    <tr style=\"text-align: right;\">\n",
       "      <th></th>\n",
       "      <th>ID</th>\n",
       "      <th>Nome</th>\n",
       "      <th>Idade</th>\n",
       "      <th>Cidade</th>\n",
       "    </tr>\n",
       "  </thead>\n",
       "  <tbody>\n",
       "    <tr>\n",
       "      <th>0</th>\n",
       "      <td>1</td>\n",
       "      <td>Ana</td>\n",
       "      <td>28.0</td>\n",
       "      <td>NaN</td>\n",
       "    </tr>\n",
       "    <tr>\n",
       "      <th>1</th>\n",
       "      <td>2</td>\n",
       "      <td>Carlos</td>\n",
       "      <td>42.0</td>\n",
       "      <td>NaN</td>\n",
       "    </tr>\n",
       "    <tr>\n",
       "      <th>0</th>\n",
       "      <td>3</td>\n",
       "      <td>Beatriz</td>\n",
       "      <td>NaN</td>\n",
       "      <td>São Paulo</td>\n",
       "    </tr>\n",
       "    <tr>\n",
       "      <th>1</th>\n",
       "      <td>4</td>\n",
       "      <td>Daniel</td>\n",
       "      <td>NaN</td>\n",
       "      <td>Rio de Janeiro</td>\n",
       "    </tr>\n",
       "  </tbody>\n",
       "</table>\n",
       "</div>"
      ],
      "text/plain": [
       "   ID     Nome  Idade          Cidade\n",
       "0   1      Ana   28.0             NaN\n",
       "1   2   Carlos   42.0             NaN\n",
       "0   3  Beatriz    NaN       São Paulo\n",
       "1   4   Daniel    NaN  Rio de Janeiro"
      ]
     },
     "metadata": {},
     "output_type": "display_data"
    },
    {
     "data": {
      "text/html": [
       "<div>\n",
       "<style scoped>\n",
       "    .dataframe tbody tr th:only-of-type {\n",
       "        vertical-align: middle;\n",
       "    }\n",
       "\n",
       "    .dataframe tbody tr th {\n",
       "        vertical-align: top;\n",
       "    }\n",
       "\n",
       "    .dataframe thead th {\n",
       "        text-align: right;\n",
       "    }\n",
       "</style>\n",
       "<table border=\"1\" class=\"dataframe\">\n",
       "  <thead>\n",
       "    <tr style=\"text-align: right;\">\n",
       "      <th></th>\n",
       "      <th>ID</th>\n",
       "      <th>Nome</th>\n",
       "      <th>Idade</th>\n",
       "      <th>ID</th>\n",
       "      <th>Nome</th>\n",
       "      <th>Cidade</th>\n",
       "    </tr>\n",
       "  </thead>\n",
       "  <tbody>\n",
       "    <tr>\n",
       "      <th>0</th>\n",
       "      <td>1</td>\n",
       "      <td>Ana</td>\n",
       "      <td>28</td>\n",
       "      <td>3</td>\n",
       "      <td>Beatriz</td>\n",
       "      <td>São Paulo</td>\n",
       "    </tr>\n",
       "    <tr>\n",
       "      <th>1</th>\n",
       "      <td>2</td>\n",
       "      <td>Carlos</td>\n",
       "      <td>42</td>\n",
       "      <td>4</td>\n",
       "      <td>Daniel</td>\n",
       "      <td>Rio de Janeiro</td>\n",
       "    </tr>\n",
       "  </tbody>\n",
       "</table>\n",
       "</div>"
      ],
      "text/plain": [
       "   ID    Nome  Idade  ID     Nome          Cidade\n",
       "0   1     Ana     28   3  Beatriz       São Paulo\n",
       "1   2  Carlos     42   4   Daniel  Rio de Janeiro"
      ]
     },
     "metadata": {},
     "output_type": "display_data"
    }
   ],
   "source": [
    "data1 = {\n",
    "    'ID': [1, 2],\n",
    "    'Nome': ['Ana', 'Carlos'],\n",
    "    'Idade': [28, 42]\n",
    "}\n",
    "df1 = pd.DataFrame(data1)\n",
    "\n",
    "data2 = {\n",
    "    'ID': [3, 4],\n",
    "    'Nome': ['Beatriz', 'Daniel'],\n",
    "    'Cidade': ['São Paulo', 'Rio de Janeiro']\n",
    "}\n",
    "\n",
    "df2 = pd.DataFrame(data2)\n",
    "\n",
    "display(pd.concat([df1,df2],axis=0))\n",
    "\n",
    "display(pd.concat([df1,df2],axis=1))"
   ]
  },
  {
   "cell_type": "markdown",
   "id": "2cc0bd48",
   "metadata": {},
   "source": [
    "Resposta: Do exemplo acima vemos que ao usar pd.concat() com axis = 0, os dataframes são unidos por linha, ou seja, há um empilhamento vertical, com novas linhas sendo adicionadas ao dataframe. As informações que não continham no dataframe 1 (cidade) e no dataframe 2 (idade) apareceram como NaN no novo dataframe. É importante notar que, nessa abordagem, os índices se repetem (0,1,0,1). Para resolver este problema, é possível usar o parâmetro ``ignore_index=True``. Ele reinicia os índices de forma correta (0,1,2,3). \n",
    "\n",
    "No segundo resultado, obtido usando pd.concat() e axis = 1 ocorre o empilhamento horizontal, ou seja, novas colunas são adicionadas ao dataframe. No exemplo acima, esta abordagem não foi adequada, pois acrescentou uma nova coluna ID e uma nova coluna Nome. "
   ]
  },
  {
   "cell_type": "markdown",
   "id": "e33507a2",
   "metadata": {},
   "source": [
    "## 8.​ Utilizando pandas, como realizar a leitura de um arquivo CSV em um DataFrame e exibir as primeiras linhas?​"
   ]
  },
  {
   "cell_type": "code",
   "execution_count": 45,
   "id": "fd5843e1",
   "metadata": {},
   "outputs": [
    {
     "data": {
      "text/html": [
       "<div>\n",
       "<style scoped>\n",
       "    .dataframe tbody tr th:only-of-type {\n",
       "        vertical-align: middle;\n",
       "    }\n",
       "\n",
       "    .dataframe tbody tr th {\n",
       "        vertical-align: top;\n",
       "    }\n",
       "\n",
       "    .dataframe thead th {\n",
       "        text-align: right;\n",
       "    }\n",
       "</style>\n",
       "<table border=\"1\" class=\"dataframe\">\n",
       "  <thead>\n",
       "    <tr style=\"text-align: right;\">\n",
       "      <th></th>\n",
       "      <th>id</th>\n",
       "      <th>nome</th>\n",
       "      <th>idade</th>\n",
       "    </tr>\n",
       "  </thead>\n",
       "  <tbody>\n",
       "    <tr>\n",
       "      <th>0</th>\n",
       "      <td>1</td>\n",
       "      <td>Marcio</td>\n",
       "      <td>36.0</td>\n",
       "    </tr>\n",
       "    <tr>\n",
       "      <th>1</th>\n",
       "      <td>2</td>\n",
       "      <td>Paula</td>\n",
       "      <td>20.0</td>\n",
       "    </tr>\n",
       "    <tr>\n",
       "      <th>2</th>\n",
       "      <td>3</td>\n",
       "      <td>Zezé</td>\n",
       "      <td>50.0</td>\n",
       "    </tr>\n",
       "    <tr>\n",
       "      <th>3</th>\n",
       "      <td>4</td>\n",
       "      <td>Maria</td>\n",
       "      <td>NaN</td>\n",
       "    </tr>\n",
       "    <tr>\n",
       "      <th>4</th>\n",
       "      <td>5</td>\n",
       "      <td>Sérgio</td>\n",
       "      <td>15.0</td>\n",
       "    </tr>\n",
       "  </tbody>\n",
       "</table>\n",
       "</div>"
      ],
      "text/plain": [
       "   id    nome  idade\n",
       "0   1  Marcio   36.0\n",
       "1   2   Paula   20.0\n",
       "2   3    Zezé   50.0\n",
       "3   4   Maria    NaN\n",
       "4   5  Sérgio   15.0"
      ]
     },
     "execution_count": 45,
     "metadata": {},
     "output_type": "execute_result"
    }
   ],
   "source": [
    "import pandas as pd\n",
    "df = pd.read_csv(\"teste.csv\")\n",
    "df.head()"
   ]
  },
  {
   "cell_type": "markdown",
   "id": "ac2210e4",
   "metadata": {},
   "source": [
    "## 9.​ Utilizando pandas, como selecionar uma coluna específica e filtrar linhas em um “DataFrame” com base em uma condição?"
   ]
  },
  {
   "cell_type": "code",
   "execution_count": 46,
   "id": "bde83702",
   "metadata": {},
   "outputs": [
    {
     "data": {
      "text/html": [
       "<div>\n",
       "<style scoped>\n",
       "    .dataframe tbody tr th:only-of-type {\n",
       "        vertical-align: middle;\n",
       "    }\n",
       "\n",
       "    .dataframe tbody tr th {\n",
       "        vertical-align: top;\n",
       "    }\n",
       "\n",
       "    .dataframe thead th {\n",
       "        text-align: right;\n",
       "    }\n",
       "</style>\n",
       "<table border=\"1\" class=\"dataframe\">\n",
       "  <thead>\n",
       "    <tr style=\"text-align: right;\">\n",
       "      <th></th>\n",
       "      <th>id</th>\n",
       "      <th>nome</th>\n",
       "      <th>idade</th>\n",
       "    </tr>\n",
       "  </thead>\n",
       "  <tbody>\n",
       "    <tr>\n",
       "      <th>0</th>\n",
       "      <td>1</td>\n",
       "      <td>Marcio</td>\n",
       "      <td>36.0</td>\n",
       "    </tr>\n",
       "    <tr>\n",
       "      <th>2</th>\n",
       "      <td>3</td>\n",
       "      <td>Zezé</td>\n",
       "      <td>50.0</td>\n",
       "    </tr>\n",
       "  </tbody>\n",
       "</table>\n",
       "</div>"
      ],
      "text/plain": [
       "   id    nome  idade\n",
       "0   1  Marcio   36.0\n",
       "2   3    Zezé   50.0"
      ]
     },
     "execution_count": 46,
     "metadata": {},
     "output_type": "execute_result"
    }
   ],
   "source": [
    "\n",
    "df[df['idade'] > 30]\n",
    "\n",
    "\n",
    "df.query('idade > 30')"
   ]
  },
  {
   "cell_type": "markdown",
   "id": "06bcfe6c",
   "metadata": {},
   "source": [
    "## 10.​Utilizando pandas, como lidar com valores ausentes (NaN) em um DataFrame?"
   ]
  },
  {
   "cell_type": "markdown",
   "id": "1aefd85d",
   "metadata": {},
   "source": [
    "Resposta: Para lidar com valores ausentes podemos fazer uma investigação do motivo pelo qual aquele valor é faltante. Caso estes sejam poucos no dataset, podemos excluí- (df.dropna()). Caso tenhamos uma ideia do motivo que aquele valor seja ausente, podemos fazer imputação de dados (df.fillna()), tais como o valor da média, moda, mediana ou até mesmo algum valor constante pra sinalizar ao modelo que aquele valor é desconhecido (ex: 0). Nos exemplos abaixo, foi removida a linha que contém um valor nulo (Maria, Nan) e foi colocada a média das idades de Maria."
   ]
  },
  {
   "cell_type": "code",
   "execution_count": 47,
   "id": "f7813e00",
   "metadata": {},
   "outputs": [
    {
     "data": {
      "text/html": [
       "<div>\n",
       "<style scoped>\n",
       "    .dataframe tbody tr th:only-of-type {\n",
       "        vertical-align: middle;\n",
       "    }\n",
       "\n",
       "    .dataframe tbody tr th {\n",
       "        vertical-align: top;\n",
       "    }\n",
       "\n",
       "    .dataframe thead th {\n",
       "        text-align: right;\n",
       "    }\n",
       "</style>\n",
       "<table border=\"1\" class=\"dataframe\">\n",
       "  <thead>\n",
       "    <tr style=\"text-align: right;\">\n",
       "      <th></th>\n",
       "      <th>id</th>\n",
       "      <th>nome</th>\n",
       "      <th>idade</th>\n",
       "    </tr>\n",
       "  </thead>\n",
       "  <tbody>\n",
       "    <tr>\n",
       "      <th>0</th>\n",
       "      <td>1</td>\n",
       "      <td>Marcio</td>\n",
       "      <td>36.0</td>\n",
       "    </tr>\n",
       "    <tr>\n",
       "      <th>1</th>\n",
       "      <td>2</td>\n",
       "      <td>Paula</td>\n",
       "      <td>20.0</td>\n",
       "    </tr>\n",
       "    <tr>\n",
       "      <th>2</th>\n",
       "      <td>3</td>\n",
       "      <td>Zezé</td>\n",
       "      <td>50.0</td>\n",
       "    </tr>\n",
       "    <tr>\n",
       "      <th>4</th>\n",
       "      <td>5</td>\n",
       "      <td>Sérgio</td>\n",
       "      <td>15.0</td>\n",
       "    </tr>\n",
       "    <tr>\n",
       "      <th>5</th>\n",
       "      <td>6</td>\n",
       "      <td>Enzo</td>\n",
       "      <td>21.0</td>\n",
       "    </tr>\n",
       "  </tbody>\n",
       "</table>\n",
       "</div>"
      ],
      "text/plain": [
       "   id    nome  idade\n",
       "0   1  Marcio   36.0\n",
       "1   2   Paula   20.0\n",
       "2   3    Zezé   50.0\n",
       "4   5  Sérgio   15.0\n",
       "5   6    Enzo   21.0"
      ]
     },
     "metadata": {},
     "output_type": "display_data"
    },
    {
     "data": {
      "text/html": [
       "<div>\n",
       "<style scoped>\n",
       "    .dataframe tbody tr th:only-of-type {\n",
       "        vertical-align: middle;\n",
       "    }\n",
       "\n",
       "    .dataframe tbody tr th {\n",
       "        vertical-align: top;\n",
       "    }\n",
       "\n",
       "    .dataframe thead th {\n",
       "        text-align: right;\n",
       "    }\n",
       "</style>\n",
       "<table border=\"1\" class=\"dataframe\">\n",
       "  <thead>\n",
       "    <tr style=\"text-align: right;\">\n",
       "      <th></th>\n",
       "      <th>id</th>\n",
       "      <th>nome</th>\n",
       "      <th>idade</th>\n",
       "    </tr>\n",
       "  </thead>\n",
       "  <tbody>\n",
       "    <tr>\n",
       "      <th>0</th>\n",
       "      <td>1</td>\n",
       "      <td>Marcio</td>\n",
       "      <td>36.0</td>\n",
       "    </tr>\n",
       "    <tr>\n",
       "      <th>1</th>\n",
       "      <td>2</td>\n",
       "      <td>Paula</td>\n",
       "      <td>20.0</td>\n",
       "    </tr>\n",
       "    <tr>\n",
       "      <th>2</th>\n",
       "      <td>3</td>\n",
       "      <td>Zezé</td>\n",
       "      <td>50.0</td>\n",
       "    </tr>\n",
       "    <tr>\n",
       "      <th>3</th>\n",
       "      <td>4</td>\n",
       "      <td>Maria</td>\n",
       "      <td>28.4</td>\n",
       "    </tr>\n",
       "    <tr>\n",
       "      <th>4</th>\n",
       "      <td>5</td>\n",
       "      <td>Sérgio</td>\n",
       "      <td>15.0</td>\n",
       "    </tr>\n",
       "    <tr>\n",
       "      <th>5</th>\n",
       "      <td>6</td>\n",
       "      <td>Enzo</td>\n",
       "      <td>21.0</td>\n",
       "    </tr>\n",
       "  </tbody>\n",
       "</table>\n",
       "</div>"
      ],
      "text/plain": [
       "   id    nome  idade\n",
       "0   1  Marcio   36.0\n",
       "1   2   Paula   20.0\n",
       "2   3    Zezé   50.0\n",
       "3   4   Maria   28.4\n",
       "4   5  Sérgio   15.0\n",
       "5   6    Enzo   21.0"
      ]
     },
     "metadata": {},
     "output_type": "display_data"
    }
   ],
   "source": [
    "display(df.dropna(axis=0),df.fillna(df.idade.mean()))"
   ]
  }
 ],
 "metadata": {
  "kernelspec": {
   "display_name": ".venv",
   "language": "python",
   "name": "python3"
  },
  "language_info": {
   "codemirror_mode": {
    "name": "ipython",
    "version": 3
   },
   "file_extension": ".py",
   "mimetype": "text/x-python",
   "name": "python",
   "nbconvert_exporter": "python",
   "pygments_lexer": "ipython3",
   "version": "3.12.3"
  }
 },
 "nbformat": 4,
 "nbformat_minor": 5
}
