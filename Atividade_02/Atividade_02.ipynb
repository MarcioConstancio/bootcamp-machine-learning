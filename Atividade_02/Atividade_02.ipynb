{
 "cells": [
  {
   "cell_type": "markdown",
   "id": "7b65cd66",
   "metadata": {},
   "source": [
    "# Atividade 02 (ATIV-02)\n",
    "\n",
    "**Nome:** Márcio Constâncio Junior\n",
    "\n",
    "Tipo: Somativa;\n",
    "\n",
    "Tema: Algoritmos básicos de programação em linguagem python e análise de dados.\n",
    "\n",
    "Conteúdo: Módulo 1 e 2.\n",
    "\n",
    "Participantes: Individual.\n",
    "\n",
    "## Avaliação do aluno.\n",
    "\n",
    "Objetivo: Avaliar desempenho do aluno sobre conhecimentos básicos de programação em linguagem python e visualização e análise de dados.\n",
    "\n",
    "Nota: 0 a 3 supercrítico, 4 a 6 crítico, 5 a 7 razoável e 8 a 10 bom;\n",
    "\n",
    "Critérios avaliados: Respostas com coerência, coesão e com exemplos.\n",
    "\n",
    "Informações adicionais: A atividade é composta por 5 questões dissertativas sobre python e 5 questões sobre visualização e análise de dados."
   ]
  },
  {
   "cell_type": "code",
   "execution_count": 92,
   "id": "bb50c7ac",
   "metadata": {},
   "outputs": [],
   "source": [
    "#Importação de algumas bibliotecas necessárias para o funcionamento deste arquivo\n",
    "import pandas as pd\n",
    "import matplotlib.pyplot as plt\n",
    "import seaborn as sns"
   ]
  },
  {
   "cell_type": "markdown",
   "id": "0756e1d5",
   "metadata": {},
   "source": [
    "## 1. Escreva uma função que receba uma lista de números e retorne outra lista com os números ímpares."
   ]
  },
  {
   "cell_type": "code",
   "execution_count": null,
   "id": "25e676ce",
   "metadata": {},
   "outputs": [
    {
     "data": {
      "text/plain": [
       "[1, 3, 5, 7, 9]"
      ]
     },
     "execution_count": 37,
     "metadata": {},
     "output_type": "execute_result"
    }
   ],
   "source": [
    "def imprime_impares(lista):\n",
    "    impares=[]\n",
    "    for numero in lista:\n",
    "        if int(numero) % 2 != 0:\n",
    "            impares.append(int(numero))\n",
    "    return impares\n",
    "\n",
    "#Testando a função\n",
    "imprime_impares([1,2,3,4,5,6,7,8,9,10])"
   ]
  },
  {
   "cell_type": "markdown",
   "id": "25efe861",
   "metadata": {},
   "source": [
    "## 2. Escreva uma função que receba uma lista de números e retorne outra lista com os números primos presentes."
   ]
  },
  {
   "cell_type": "code",
   "execution_count": 50,
   "id": "e842f5f1",
   "metadata": {},
   "outputs": [
    {
     "data": {
      "text/plain": [
       "[1, 2, 3, 5, 7, 11, 13, 17, 19]"
      ]
     },
     "execution_count": 50,
     "metadata": {},
     "output_type": "execute_result"
    }
   ],
   "source": [
    "def primos(lista):\n",
    "    conjunto = set(lista)\n",
    "    aux = []\n",
    "    for valor in conjunto:\n",
    "        divisor = valor//2\n",
    "        eh_divisivel = 0\n",
    "        while divisor > 1:\n",
    "            if int(valor % divisor) == 0:\n",
    "                eh_divisivel += 1\n",
    "                divisor -= 1\n",
    "            divisor -= 1\n",
    "        if eh_divisivel == 0:\n",
    "            aux.append(valor)\n",
    "    return aux\n",
    "\n",
    "#Testando a função\n",
    "primos([1,2,3,4,5,6,7,8,9,10,11,12,13,12,14,15,16,17,19,18])\n"
   ]
  },
  {
   "cell_type": "markdown",
   "id": "08f8914b",
   "metadata": {},
   "source": [
    "## 3.​ Escreva uma função que receba duas listas e retorne outra lista com os elementos que estão presentes em apenas uma das listas."
   ]
  },
  {
   "cell_type": "code",
   "execution_count": 60,
   "id": "d87e4c15",
   "metadata": {},
   "outputs": [
    {
     "data": {
      "text/plain": [
       "[1, 4, 5]"
      ]
     },
     "execution_count": 60,
     "metadata": {},
     "output_type": "execute_result"
    }
   ],
   "source": [
    "def diferenca_listas(lista1,lista2):\n",
    "    conj1 = set(lista1)\n",
    "    conj2 = set(lista2)\n",
    "\n",
    "    return list(conj1.difference(conj2))\n",
    "\n",
    "a = [1,2,3,4,5,6]\n",
    "b = [2,3,6,7,8,9,10]\n",
    "\n",
    "diferenca_listas(a,b)\n"
   ]
  },
  {
   "cell_type": "markdown",
   "id": "6b0257f0",
   "metadata": {},
   "source": [
    "## 4.​ Dada uma lista de números inteiros, escreva uma função para encontrar o segundo maior valor na lista."
   ]
  },
  {
   "cell_type": "code",
   "execution_count": 69,
   "id": "043a4c85",
   "metadata": {},
   "outputs": [
    {
     "data": {
      "text/plain": [
       "9"
      ]
     },
     "execution_count": 69,
     "metadata": {},
     "output_type": "execute_result"
    }
   ],
   "source": [
    "def segundo_maior(lista):\n",
    "    lista.sort()\n",
    "    return lista[-2]\n",
    "\n",
    "teste = [1,3,5,7,9,10,2,4,6,8]\n",
    "\n",
    "segundo_maior(teste)"
   ]
  },
  {
   "cell_type": "markdown",
   "id": "65c9c710",
   "metadata": {},
   "source": [
    "## 5.​ Crie uma função que receba uma lista de tuplas, cada uma contendo o nome e a idade de uma pessoa, e retorne a lista ordenada pelo nome das pessoas em ordem alfabética."
   ]
  },
  {
   "cell_type": "code",
   "execution_count": 77,
   "id": "df1acf78",
   "metadata": {},
   "outputs": [
    {
     "data": {
      "text/plain": [
       "('Marcio', 30)"
      ]
     },
     "execution_count": 77,
     "metadata": {},
     "output_type": "execute_result"
    }
   ],
   "source": [
    "lista = [(\"Marcio\",30),(\"Paulo\",28),(\"Maria\",21),(\"Rosana\",45)]\n",
    "lista[0]\n"
   ]
  },
  {
   "cell_type": "markdown",
   "id": "89df9bfa",
   "metadata": {},
   "source": [
    "## 6.​ Como identificar e tratar outliers em uma coluna numérica usando desvio padrão ou quartis?"
   ]
  },
  {
   "cell_type": "code",
   "execution_count": 100,
   "id": "fd86db51",
   "metadata": {},
   "outputs": [
    {
     "name": "stdout",
     "output_type": "stream",
     "text": [
      "21.75 115.0 93.25\n",
      "-118.125 254.875\n"
     ]
    },
    {
     "data": {
      "text/html": [
       "<div>\n",
       "<style scoped>\n",
       "    .dataframe tbody tr th:only-of-type {\n",
       "        vertical-align: middle;\n",
       "    }\n",
       "\n",
       "    .dataframe tbody tr th {\n",
       "        vertical-align: top;\n",
       "    }\n",
       "\n",
       "    .dataframe thead th {\n",
       "        text-align: right;\n",
       "    }\n",
       "</style>\n",
       "<table border=\"1\" class=\"dataframe\">\n",
       "  <thead>\n",
       "    <tr style=\"text-align: right;\">\n",
       "      <th></th>\n",
       "      <th>coluna1</th>\n",
       "      <th>coluna2</th>\n",
       "    </tr>\n",
       "  </thead>\n",
       "  <tbody>\n",
       "    <tr>\n",
       "      <th>5</th>\n",
       "      <td>5</td>\n",
       "      <td>260</td>\n",
       "    </tr>\n",
       "  </tbody>\n",
       "</table>\n",
       "</div>"
      ],
      "text/plain": [
       "   coluna1  coluna2\n",
       "5        5      260"
      ]
     },
     "execution_count": 100,
     "metadata": {},
     "output_type": "execute_result"
    }
   ],
   "source": [
    "dictio = {'coluna1':[0,1,2,3,4,5,6,7,8,9], \"coluna2\":[2,8,100,14,120,260,50,45,60,150]}\n",
    "df = pd.DataFrame(dictio)\n",
    "\n",
    "\n",
    "q1 = df['coluna2'].quantile(0.25)\n",
    "q3 = df['coluna2'].quantile(0.75)\n",
    "iqr = q3 - q1\n",
    "print(q1,q3,iqr)\n",
    "\n",
    "upper = q3 + 1.5*iqr\n",
    "lower = q1 - 1.5*iqr\n",
    "\n",
    "print(lower,upper)\n",
    "\n",
    "df[(df['coluna2'] < lower) | (df['coluna2'] > upper)]"
   ]
  },
  {
   "cell_type": "code",
   "execution_count": 104,
   "id": "d8732b12",
   "metadata": {},
   "outputs": [
    {
     "data": {
      "image/png": "[encoded data removed]",
      "text/plain": [
       "<Figure size 400x300 with 1 Axes>"
      ]
     },
     "metadata": {},
     "output_type": "display_data"
    }
   ],
   "source": [
    "fig = plt.figure(figsize=(4,3))\n",
    "sns.boxplot(data=df, x = 'coluna2')\n",
    "plt.xlabel('Dados da coluna 2')\n",
    "plt.show()"
   ]
  },
  {
   "cell_type": "markdown",
   "id": "33d57731",
   "metadata": {},
   "source": [
    "## 7.​ Como concatenar vários DataFrames (empilhando linhas ou colunas), mesmo que tenham colunas diferentes? Dica: Utiliza-se pd.concat() especificando axis=0 (linhas) ou axis=1 (colunas). Quando há colunas diferentes, os valores ausentes são preenchidos com NaN."
   ]
  },
  {
   "cell_type": "code",
   "execution_count": null,
   "id": "4c8e9619",
   "metadata": {},
   "outputs": [],
   "source": []
  },
  {
   "cell_type": "markdown",
   "id": "e33507a2",
   "metadata": {},
   "source": [
    "## 8.​ Utilizando pandas, como realizar a leitura de um arquivo CSV em um DataFrame e exibir as primeiras linhas?​"
   ]
  },
  {
   "cell_type": "code",
   "execution_count": null,
   "id": "fd5843e1",
   "metadata": {},
   "outputs": [],
   "source": []
  },
  {
   "cell_type": "markdown",
   "id": "ac2210e4",
   "metadata": {},
   "source": [
    "## 9.​ Utilizando pandas, como selecionar uma coluna específica e filtrar linhas em um “DataFrame” com base em uma condição?"
   ]
  },
  {
   "cell_type": "code",
   "execution_count": null,
   "id": "bde83702",
   "metadata": {},
   "outputs": [],
   "source": []
  },
  {
   "cell_type": "markdown",
   "id": "06bcfe6c",
   "metadata": {},
   "source": [
    "## 10.​Utilizando pandas, como lidar com valores ausentes (NaN) em um DataFrame?"
   ]
  },
  {
   "cell_type": "code",
   "execution_count": null,
   "id": "f7813e00",
   "metadata": {},
   "outputs": [],
   "source": []
  }
 ],
 "metadata": {
  "kernelspec": {
   "display_name": ".venv",
   "language": "python",
   "name": "python3"
  },
  "language_info": {
   "codemirror_mode": {
    "name": "ipython",
    "version": 3
   },
   "file_extension": ".py",
   "mimetype": "text/x-python",
   "name": "python",
   "nbconvert_exporter": "python",
   "pygments_lexer": "ipython3",
   "version": "3.12.3"
  }
 },
 "nbformat": 4,
 "nbformat_minor": 5
}
